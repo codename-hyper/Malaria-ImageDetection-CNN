{
 "cells": [
  {
   "cell_type": "code",
   "execution_count": 1,
   "metadata": {},
   "outputs": [],
   "source": [
    "import pandas as pd\n",
    "import numpy as np\n",
    "import cv2"
   ]
  },
  {
   "cell_type": "code",
   "execution_count": 2,
   "metadata": {},
   "outputs": [],
   "source": [
    "from os import listdir\n",
    "from PIL import Image as PImage"
   ]
  },
  {
   "cell_type": "code",
   "execution_count": 3,
   "metadata": {},
   "outputs": [
    {
     "name": "stdout",
     "output_type": "stream",
     "text": [
      "1\n"
     ]
    }
   ],
   "source": [
    "error_count_paratised = 0\n",
    "correct_img_paratised = []\n",
    "path_paratised = r\"E:\\Malaria_cells\\cell_images\\Parasitized\"\n",
    "images_paratised = listdir(path_paratised)\n",
    "loaded_paratised = []\n",
    "for img in images_paratised:\n",
    "    loaded_paratised.append(path_paratised + '\\\\' + img)\n",
    "    \n",
    "for i in loaded_paratised:\n",
    "    try:\n",
    "        correct_img_paratised.append(cv2.resize(cv2.imread(i),(120,120)))\n",
    "    except:\n",
    "        error_count_paratised += 1\n",
    "        print(error_count_paratised)\n",
    "\n"
   ]
  },
  {
   "cell_type": "code",
   "execution_count": 4,
   "metadata": {},
   "outputs": [
    {
     "name": "stdout",
     "output_type": "stream",
     "text": [
      "1\n"
     ]
    }
   ],
   "source": [
    "error_count_uninfected = 0\n",
    "\n",
    "path_uninfected = r\"E:\\Malaria_cells\\cell_images\\Uninfected\"\n",
    "images_uninfected = listdir(path_uninfected)\n",
    "loaded_uninfected = []\n",
    "correct_img_uninfected = []\n",
    "for img in images_uninfected:\n",
    "    loaded_uninfected.append(path_uninfected + '\\\\' + img)\n",
    "for i in loaded_uninfected:\n",
    "    try:\n",
    "        correct_img_uninfected.append(cv2.resize(cv2.imread(i),(120,120)))\n",
    "    except:\n",
    "        error_count_uninfected += 1\n",
    "        print(error_count_uninfected)"
   ]
  },
  {
   "cell_type": "code",
   "execution_count": 5,
   "metadata": {},
   "outputs": [],
   "source": [
    "paratised_y = [1 for i in range(len(correct_img_paratised))]\n",
    "uninfected_y = [0 for i in range(len(correct_img_uninfected))]"
   ]
  },
  {
   "cell_type": "code",
   "execution_count": 6,
   "metadata": {},
   "outputs": [
    {
     "data": {
      "text/plain": [
       "True"
      ]
     },
     "execution_count": 6,
     "metadata": {},
     "output_type": "execute_result"
    }
   ],
   "source": [
    "x = correct_img_paratised + correct_img_uninfected\n",
    "y = paratised_y + uninfected_y\n",
    "len(x) == len(y)"
   ]
  },
  {
   "cell_type": "code",
   "execution_count": 7,
   "metadata": {},
   "outputs": [],
   "source": [
    "x = np.array(x)\n",
    "y = np.array(y)"
   ]
  },
  {
   "cell_type": "code",
   "execution_count": 8,
   "metadata": {},
   "outputs": [
    {
     "data": {
      "text/plain": [
       "(27558, 120, 120, 3)"
      ]
     },
     "execution_count": 8,
     "metadata": {},
     "output_type": "execute_result"
    }
   ],
   "source": [
    "x.shape"
   ]
  },
  {
   "cell_type": "code",
   "execution_count": 9,
   "metadata": {},
   "outputs": [],
   "source": [
    "from sklearn.model_selection import train_test_split"
   ]
  },
  {
   "cell_type": "code",
   "execution_count": 10,
   "metadata": {},
   "outputs": [],
   "source": [
    "x_train,x_test,y_train,y_test = train_test_split(x,y,random_state=72,test_size=0.30,stratify=y)"
   ]
  },
  {
   "cell_type": "code",
   "execution_count": 11,
   "metadata": {},
   "outputs": [],
   "source": [
    "from sklearn.preprocessing import MinMaxScaler"
   ]
  },
  {
   "cell_type": "code",
   "execution_count": 12,
   "metadata": {},
   "outputs": [],
   "source": [
    "#scale_train = MinMaxScaler()\n",
    "#scale_test = MinMaxScaler()"
   ]
  },
  {
   "cell_type": "code",
   "execution_count": 13,
   "metadata": {},
   "outputs": [],
   "source": [
    "x_train_scaled = x_train / 255\n",
    "x_test_scaled = x_test / 255"
   ]
  },
  {
   "cell_type": "code",
   "execution_count": 14,
   "metadata": {},
   "outputs": [
    {
     "data": {
      "text/plain": [
       "(19290, 120, 120, 3)"
      ]
     },
     "execution_count": 14,
     "metadata": {},
     "output_type": "execute_result"
    }
   ],
   "source": [
    "x_train.shape"
   ]
  },
  {
   "cell_type": "code",
   "execution_count": 15,
   "metadata": {},
   "outputs": [],
   "source": [
    "import tensorflow as tf\n",
    "from tensorflow import keras"
   ]
  },
  {
   "cell_type": "code",
   "execution_count": 16,
   "metadata": {},
   "outputs": [],
   "source": [
    "cnn = keras.Sequential([\n",
    "    keras.layers.Conv2D(filters=32,kernel_size=(3,3),activation='relu',input_shape=(120, 120, 3),padding='same'),\n",
    "    keras.layers.MaxPooling2D((2,2)),\n",
    "    keras.layers.Conv2D(filters=64,kernel_size=(3,3),activation='relu',padding='same'),\n",
    "    keras.layers.MaxPooling2D((2,2)),\n",
    "    keras.layers.Conv2D(filters=128,kernel_size=(3,3),activation='relu',padding='same'),\n",
    "    keras.layers.MaxPooling2D((2,2)),\n",
    "    \n",
    "    keras.layers.Dropout(0.2),\n",
    "    keras.layers.Flatten(),\n",
    "    keras.layers.Dense(64,activation='relu'),\n",
    "    keras.layers.Dense(64,activation='relu'),\n",
    "    keras.layers.Dense(2,activation='sigmoid')\n",
    "])"
   ]
  },
  {
   "cell_type": "code",
   "execution_count": 17,
   "metadata": {},
   "outputs": [],
   "source": [
    "cnn.compile(optimizer='adam',loss='sparse_categorical_crossentropy',metrics='accuracy')"
   ]
  },
  {
   "cell_type": "code",
   "execution_count": 18,
   "metadata": {},
   "outputs": [
    {
     "name": "stdout",
     "output_type": "stream",
     "text": [
      "Epoch 1/25\n",
      "302/302 [==============================] - 9s 31ms/step - loss: 0.3871 - accuracy: 0.8077\n",
      "Epoch 2/25\n",
      "302/302 [==============================] - 9s 30ms/step - loss: 0.1718 - accuracy: 0.9413\n",
      "Epoch 3/25\n",
      "302/302 [==============================] - 9s 29ms/step - loss: 0.1384 - accuracy: 0.9541\n",
      "Epoch 4/25\n",
      "302/302 [==============================] - 9s 29ms/step - loss: 0.1175 - accuracy: 0.9596\n",
      "Epoch 5/25\n",
      "302/302 [==============================] - 9s 29ms/step - loss: 0.1010 - accuracy: 0.9650\n",
      "Epoch 6/25\n",
      "302/302 [==============================] - 9s 29ms/step - loss: 0.0850 - accuracy: 0.9699\n",
      "Epoch 7/25\n",
      "302/302 [==============================] - 9s 29ms/step - loss: 0.0715 - accuracy: 0.9744\n",
      "Epoch 8/25\n",
      "302/302 [==============================] - 9s 29ms/step - loss: 0.0604 - accuracy: 0.9765 0s - loss: 0.0\n",
      "Epoch 9/25\n",
      "302/302 [==============================] - 9s 29ms/step - loss: 0.0435 - accuracy: 0.9835\n",
      "Epoch 10/25\n",
      "302/302 [==============================] - 9s 30ms/step - loss: 0.0356 - accuracy: 0.9866\n",
      "Epoch 11/25\n",
      "302/302 [==============================] - 9s 29ms/step - loss: 0.0300 - accuracy: 0.9894\n",
      "Epoch 12/25\n",
      "302/302 [==============================] - 9s 30ms/step - loss: 0.0218 - accuracy: 0.9915\n",
      "Epoch 13/25\n",
      "302/302 [==============================] - 9s 30ms/step - loss: 0.0166 - accuracy: 0.9943 0s - l\n",
      "Epoch 14/25\n",
      "302/302 [==============================] - 9s 30ms/step - loss: 0.0199 - accuracy: 0.9929 0s - loss: 0.0199 \n",
      "Epoch 15/25\n",
      "302/302 [==============================] - 9s 30ms/step - loss: 0.0108 - accuracy: 0.9963\n",
      "Epoch 16/25\n",
      "302/302 [==============================] - 9s 30ms/step - loss: 0.0134 - accuracy: 0.9950\n",
      "Epoch 17/25\n",
      "302/302 [==============================] - 9s 30ms/step - loss: 0.0215 - accuracy: 0.9923 0s\n",
      "Epoch 18/25\n",
      "302/302 [==============================] - 9s 30ms/step - loss: 0.0074 - accuracy: 0.9971\n",
      "Epoch 19/25\n",
      "302/302 [==============================] - 9s 30ms/step - loss: 0.0126 - accuracy: 0.9963\n",
      "Epoch 20/25\n",
      "302/302 [==============================] - 9s 30ms/step - loss: 0.0111 - accuracy: 0.9963\n",
      "Epoch 21/25\n",
      "302/302 [==============================] - 9s 30ms/step - loss: 0.0149 - accuracy: 0.9952 0s - loss: 0.0151 - accu\n",
      "Epoch 22/25\n",
      "302/302 [==============================] - 9s 30ms/step - loss: 0.0097 - accuracy: 0.9964\n",
      "Epoch 23/25\n",
      "302/302 [==============================] - 9s 30ms/step - loss: 0.0143 - accuracy: 0.9959\n",
      "Epoch 24/25\n",
      "302/302 [==============================] - 9s 30ms/step - loss: 0.0057 - accuracy: 0.9979\n",
      "Epoch 25/25\n",
      "302/302 [==============================] - 9s 30ms/step - loss: 0.0069 - accuracy: 0.9977 0s - loss: 0.0063 - accuracy: 0.\n"
     ]
    },
    {
     "data": {
      "text/plain": [
       "<tensorflow.python.keras.callbacks.History at 0x2135cf9ee20>"
      ]
     },
     "execution_count": 18,
     "metadata": {},
     "output_type": "execute_result"
    }
   ],
   "source": [
    "cnn.fit(x_train_scaled,y_train,epochs=25,batch_size=64)"
   ]
  },
  {
   "cell_type": "code",
   "execution_count": 19,
   "metadata": {},
   "outputs": [
    {
     "name": "stdout",
     "output_type": "stream",
     "text": [
      "259/259 [==============================] - 2s 7ms/step - loss: 0.4175 - accuracy: 0.9507\n"
     ]
    },
    {
     "data": {
      "text/plain": [
       "[0.4175294041633606, 0.9506531357765198]"
      ]
     },
     "execution_count": 19,
     "metadata": {},
     "output_type": "execute_result"
    }
   ],
   "source": [
    "cnn.evaluate(x_test_scaled,y_test)"
   ]
  },
  {
   "cell_type": "code",
   "execution_count": 20,
   "metadata": {
    "scrolled": true
   },
   "outputs": [],
   "source": [
    "y_pred = [np.argmax(i) for i in cnn.predict(x_test_scaled)]"
   ]
  },
  {
   "cell_type": "code",
   "execution_count": 21,
   "metadata": {},
   "outputs": [],
   "source": [
    "import matplotlib.pyplot as plt"
   ]
  },
  {
   "cell_type": "code",
   "execution_count": 22,
   "metadata": {},
   "outputs": [
    {
     "data": {
      "text/plain": [
       "<matplotlib.image.AxesImage at 0x215e2409310>"
      ]
     },
     "execution_count": 22,
     "metadata": {},
     "output_type": "execute_result"
    },
    {
     "data": {
      "image/png": "[encoded data removed]",
      "text/plain": [
       "<Figure size 432x288 with 1 Axes>"
      ]
     },
     "metadata": {
      "needs_background": "light"
     },
     "output_type": "display_data"
    }
   ],
   "source": [
    "plt.imshow(x_test[111])"
   ]
  },
  {
   "cell_type": "code",
   "execution_count": 23,
   "metadata": {},
   "outputs": [
    {
     "data": {
      "text/plain": [
       "1"
      ]
     },
     "execution_count": 23,
     "metadata": {},
     "output_type": "execute_result"
    }
   ],
   "source": [
    "y_test[111]"
   ]
  },
  {
   "cell_type": "code",
   "execution_count": 24,
   "metadata": {},
   "outputs": [
    {
     "data": {
      "text/plain": [
       "1"
      ]
     },
     "execution_count": 24,
     "metadata": {},
     "output_type": "execute_result"
    }
   ],
   "source": [
    "y_pred[111]"
   ]
  },
  {
   "cell_type": "code",
   "execution_count": 25,
   "metadata": {},
   "outputs": [],
   "source": [
    "from sklearn.metrics import classification_report"
   ]
  },
  {
   "cell_type": "code",
   "execution_count": 27,
   "metadata": {},
   "outputs": [
    {
     "name": "stdout",
     "output_type": "stream",
     "text": [
      "              precision    recall  f1-score   support\n",
      "\n",
      "           0       0.94      0.97      0.95      4134\n",
      "           1       0.97      0.93      0.95      4134\n",
      "\n",
      "    accuracy                           0.95      8268\n",
      "   macro avg       0.95      0.95      0.95      8268\n",
      "weighted avg       0.95      0.95      0.95      8268\n",
      "\n"
     ]
    }
   ],
   "source": [
    "print(classification_report(y_test,y_pred))"
   ]
  },
  {
   "cell_type": "code",
   "execution_count": null,
   "metadata": {},
   "outputs": [],
   "source": []
  }
 ],
 "metadata": {
  "kernelspec": {
   "display_name": "Python 3",
   "language": "python",
   "name": "python3"
  },
  "language_info": {
   "codemirror_mode": {
    "name": "ipython",
    "version": 3
   },
   "file_extension": ".py",
   "mimetype": "text/x-python",
   "name": "python",
   "nbconvert_exporter": "python",
   "pygments_lexer": "ipython3",
   "version": "3.8.3"
  }
 },
 "nbformat": 4,
 "nbformat_minor": 4
}
